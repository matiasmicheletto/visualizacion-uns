{
 "metadata": {
  "language_info": {
   "codemirror_mode": {
    "name": "ipython",
    "version": 3
   },
   "file_extension": ".py",
   "mimetype": "text/x-python",
   "name": "python",
   "nbconvert_exporter": "python",
   "pygments_lexer": "ipython3",
   "version": "3.5.2-final"
  },
  "orig_nbformat": 2,
  "kernelspec": {
   "name": "python35264bitpenvvenv283568fccc224df0b359054a5faed6f0",
   "display_name": "Python 3.5.2 64-bit ('penv': venv)",
   "language": "python"
  }
 },
 "nbformat": 4,
 "nbformat_minor": 2,
 "cells": [
  {
   "cell_type": "code",
   "execution_count": 11,
   "metadata": {},
   "outputs": [],
   "source": [
    "import pandas as pd\n",
    "from scipy.stats import zscore\n",
    "import scipy.linalg as la"
   ]
  },
  {
   "cell_type": "code",
   "execution_count": 12,
   "metadata": {},
   "outputs": [
    {
     "output_type": "stream",
     "name": "stdout",
     "text": [
      "Archivo cargado\n"
     ]
    }
   ],
   "source": [
    "filepath = 'scraped_data.csv'\n",
    "data = pd.read_csv(filepath, encoding = 'utf-8')\n",
    "print('Archivo cargado')"
   ]
  },
  {
   "source": [
    "## Estilos más comunes del dataset"
   ],
   "cell_type": "markdown",
   "metadata": {}
  },
  {
   "cell_type": "code",
   "execution_count": 13,
   "metadata": {},
   "outputs": [
    {
     "output_type": "stream",
     "name": "stdout",
     "text": [
      "Estilos totales:  313\n \nEstilos más comunes:\nAmerican IPA                      0.140651\nAmerican Pale Ale                 0.093721\nNo Profile Selected               0.074814\nAmerican Light Lager              0.037365\nSpecialty IPA: New England IPA    0.033693\nSaison                            0.029037\nBlonde Ale                        0.027004\nAmerican Amber Ale                0.022150\nWeissbier                         0.017991\nAmerican Stout                    0.014767\nName: style, dtype: float64\n"
     ]
    }
   ],
   "source": [
    "styles_count = data['style'].value_counts() # Frecuencia de cada clase\n",
    "styles = list(styles_count.keys()) # Lista completa de estilos\n",
    "popularity = data['style'].value_counts(normalize=True) # Proporción de cada clase\n",
    "top_ten = popularity[:10] # 10 estilos de mayor frecuencia\n",
    "top_ten_styles = list(top_ten.keys()) # Nombres de las clases\n",
    "\n",
    "# Imprimir resultados\n",
    "print('Estilos totales: ',len(styles))\n",
    "print(\" \")\n",
    "print('Estilos más comunes:')\n",
    "print(top_ten)"
   ]
  },
  {
   "source": [
    "## Preprocesamiento de clases\n",
    "\n",
    "#### Las siguientes clases son equivalentes y deben combinarse:  \n",
    "\"German Pils\" -> \"German Pilsner (Pils)\"  \n",
    "\"Oktoberfest\\/M\\u00e4rzen\" -> \"M\\u00e4rzen\"  \n",
    "\"California Common Beer\" -> \"California Common\"  \n",
    "\"Weizen\\/Weissbier\" -> \"Weissbier\"  \n",
    "\"Scottish_Export_80\\/-\" -> \"Scottish_Export\"  \n",
    "\"Standard\\/Ordinary_Bitter\" -> \"Ordinary_Bitter\"  \n",
    "\"Wee Heavy\" -> \"Strong Scotch Ale\"  \n",
    "\"Light American Lager\" -> \"American Light Lager\"  \n",
    "\n",
    "#### Eliminar siguientes clases:  \n",
    "\"No Profile Selected\"  \n",
    "\"Dry Mead\"  \n",
    "\"Semi-Sweet Mead\"  \n",
    "\"Common Cider\"  \n",
    "\"Other Fruit Melomel\"  \n",
    "\n",
    "#### Procesar nombres de las siguientes clases:  \n",
    "\"Experimental Beer\"  \n",
    "\"Mixed Style Beer\"  \n",
    "\n",
    "\n"
   ],
   "cell_type": "markdown",
   "metadata": {}
  },
  {
   "source": [
    "## Obtener distribución de clases"
   ],
   "cell_type": "markdown",
   "metadata": {}
  },
  {
   "cell_type": "code",
   "execution_count": 14,
   "metadata": {},
   "outputs": [
    {
     "output_type": "stream",
     "name": "stdout",
     "text": [
      "Listo.\n"
     ]
    }
   ],
   "source": [
    "cov_mat_cols = [\"s{}{}\".format(j+1,k+1) for j in range(3) for k in range(3)]\n",
    "new_cols = ['id', 'style', 'freq', 'u_ABV', 'u_IBU', 'u_Color'] + cov_mat_cols\n",
    "clean_data = pd.DataFrame(columns = new_cols)\n",
    "ctr = 0\n",
    "for s in styles:\n",
    "    temp = data.loc[ data['style'] == s ] # Subconjunto de cada estilo\n",
    "    temp = temp.loc[(abs(zscore(temp[['abv', 'ibu', 'color']])) < 2).all(axis = 1)] # Quitar atípicos\n",
    "    \n",
    "    freq = len(temp.index) # Cantidad de recetas del estilo actual\n",
    "    avgs = temp.mean() # Promedio\n",
    "    cov = temp.cov() # Matriz de covarianza del conjunto\n",
    "    \n",
    "    if freq < 100 or s == \"No Profile Selected\": # No agregar si hay menos de 100 observaciones o el estilo no está definido\n",
    "        continue\n",
    "    if la.det(cov) < 0.01: # La matriz de covarianza debe ser invertible\n",
    "        print(\"Estilo\", s, \"tiene matriz de covarianza singular\")        \n",
    "        continue\n",
    "\n",
    "    inv_cov = pd.DataFrame(la.inv(cov.values), cov.columns, cov.index) # Inversa de la covarianza\n",
    "    \n",
    "    # Generar fila del dataframe\n",
    "    row = (s.replace(' ', '_'), s, freq) # ID, estilo, frecuencia     \n",
    "    for v in ['abv', 'ibu', 'color']:\n",
    "        row = row + (avgs[v],) # Agregar promedios\n",
    "    for i, vi in inv_cov.items(): # Para cada fila\n",
    "        for j, vj in vi.items(): # Para cada columna\n",
    "            row = row + (vj, ) # Agregar indices de la matriz de covarianza inv\n",
    "    \n",
    "    clean_data = clean_data.append( pd.DataFrame([row], columns = new_cols, index = [ctr]) )\n",
    "    ctr = ctr + 1\n",
    "print('Listo.')"
   ]
  },
  {
   "cell_type": "code",
   "execution_count": 20,
   "metadata": {},
   "outputs": [
    {
     "output_type": "execute_result",
     "data": {
      "text/html": "<div>\n<style scoped>\n    .dataframe tbody tr th:only-of-type {\n        vertical-align: middle;\n    }\n\n    .dataframe tbody tr th {\n        vertical-align: top;\n    }\n\n    .dataframe thead th {\n        text-align: right;\n    }\n</style>\n<table border=\"1\" class=\"dataframe\">\n  <thead>\n    <tr style=\"text-align: right;\">\n      <th></th>\n      <th>id</th>\n      <th>style</th>\n      <th>label</th>\n      <th>freq</th>\n      <th>u_ABV</th>\n      <th>u_IBU</th>\n      <th>u_Color</th>\n      <th>s11</th>\n      <th>s12</th>\n      <th>s13</th>\n      <th>s21</th>\n      <th>s22</th>\n      <th>s23</th>\n      <th>s31</th>\n      <th>s32</th>\n      <th>s33</th>\n    </tr>\n  </thead>\n  <tbody>\n    <tr>\n      <th>0</th>\n      <td>American_IPA</td>\n      <td>American IPA</td>\n      <td>American IPA</td>\n      <td>26181</td>\n      <td>6.352121</td>\n      <td>61.511807</td>\n      <td>7.277955</td>\n      <td>1.332477</td>\n      <td>-0.008529</td>\n      <td>-0.055345</td>\n      <td>-0.008529</td>\n      <td>0.001284</td>\n      <td>-0.001072</td>\n      <td>-0.055345</td>\n      <td>-0.001072</td>\n      <td>0.141168</td>\n    </tr>\n    <tr>\n      <th>1</th>\n      <td>American_Pale_Ale</td>\n      <td>American Pale Ale</td>\n      <td>American Pale Ale</td>\n      <td>17501</td>\n      <td>5.425265</td>\n      <td>40.329333</td>\n      <td>6.588622</td>\n      <td>2.460109</td>\n      <td>-0.012689</td>\n      <td>-0.108097</td>\n      <td>-0.012689</td>\n      <td>0.003617</td>\n      <td>-0.002127</td>\n      <td>-0.108097</td>\n      <td>-0.002127</td>\n      <td>0.213945</td>\n    </tr>\n    <tr>\n      <th>2</th>\n      <td>No_Profile_Selected</td>\n      <td>No Profile Selected</td>\n      <td>No Profile Selected</td>\n      <td>13105</td>\n      <td>5.463057</td>\n      <td>19.750642</td>\n      <td>7.446536</td>\n      <td>0.383648</td>\n      <td>-0.005026</td>\n      <td>-0.019744</td>\n      <td>-0.005026</td>\n      <td>0.002121</td>\n      <td>-0.000778</td>\n      <td>-0.019744</td>\n      <td>-0.000778</td>\n      <td>0.028784</td>\n    </tr>\n    <tr>\n      <th>3</th>\n      <td>American_Light_Lager</td>\n      <td>American Light Lager</td>\n      <td>American Light Lager</td>\n      <td>6655</td>\n      <td>5.277204</td>\n      <td>22.126798</td>\n      <td>6.668699</td>\n      <td>0.433702</td>\n      <td>-0.005156</td>\n      <td>-0.024630</td>\n      <td>-0.005156</td>\n      <td>0.001460</td>\n      <td>-0.000725</td>\n      <td>-0.024630</td>\n      <td>-0.000725</td>\n      <td>0.038741</td>\n    </tr>\n    <tr>\n      <th>4</th>\n      <td>Specialty_IPA:_New_England_IPA</td>\n      <td>Specialty IPA: New England IPA</td>\n      <td>Specialty IPA: New England IPA</td>\n      <td>6289</td>\n      <td>6.507685</td>\n      <td>44.170059</td>\n      <td>5.392923</td>\n      <td>1.253097</td>\n      <td>-0.003979</td>\n      <td>-0.210270</td>\n      <td>-0.003979</td>\n      <td>0.001281</td>\n      <td>-0.002322</td>\n      <td>-0.210270</td>\n      <td>-0.002322</td>\n      <td>0.630576</td>\n    </tr>\n  </tbody>\n</table>\n</div>",
      "text/plain": [
       "                               id                           style  \\\n",
       "0                    American_IPA                    American IPA   \n",
       "1               American_Pale_Ale               American Pale Ale   \n",
       "2             No_Profile_Selected             No Profile Selected   \n",
       "3            American_Light_Lager            American Light Lager   \n",
       "4  Specialty_IPA:_New_England_IPA  Specialty IPA: New England IPA   \n",
       "\n",
       "                            label   freq     u_ABV      u_IBU   u_Color  \\\n",
       "0                    American IPA  26181  6.352121  61.511807  7.277955   \n",
       "1               American Pale Ale  17501  5.425265  40.329333  6.588622   \n",
       "2             No Profile Selected  13105  5.463057  19.750642  7.446536   \n",
       "3            American Light Lager   6655  5.277204  22.126798  6.668699   \n",
       "4  Specialty IPA: New England IPA   6289  6.507685  44.170059  5.392923   \n",
       "\n",
       "        s11       s12       s13       s21       s22       s23       s31  \\\n",
       "0  1.332477 -0.008529 -0.055345 -0.008529  0.001284 -0.001072 -0.055345   \n",
       "1  2.460109 -0.012689 -0.108097 -0.012689  0.003617 -0.002127 -0.108097   \n",
       "2  0.383648 -0.005026 -0.019744 -0.005026  0.002121 -0.000778 -0.019744   \n",
       "3  0.433702 -0.005156 -0.024630 -0.005156  0.001460 -0.000725 -0.024630   \n",
       "4  1.253097 -0.003979 -0.210270 -0.003979  0.001281 -0.002322 -0.210270   \n",
       "\n",
       "        s32       s33  \n",
       "0 -0.001072  0.141168  \n",
       "1 -0.002127  0.213945  \n",
       "2 -0.000778  0.028784  \n",
       "3 -0.000725  0.038741  \n",
       "4 -0.002322  0.630576  "
      ]
     },
     "metadata": {},
     "execution_count": 20
    }
   ],
   "source": [
    "\n",
    "clean_data.to_json('beer_styles.json', orient = 'records')\n",
    "clean_data.head()"
   ]
  },
  {
   "cell_type": "code",
   "execution_count": 21,
   "metadata": {},
   "outputs": [
    {
     "output_type": "stream",
     "name": "stdout",
     "text": [
      "Cantidad de estilos: 141\n"
     ]
    }
   ],
   "source": [
    "print('Cantidad de estilos: '+str(clean_data.shape[0]))"
   ]
  },
  {
   "cell_type": "code",
   "execution_count": 19,
   "metadata": {},
   "outputs": [],
   "source": []
  }
 ]
}