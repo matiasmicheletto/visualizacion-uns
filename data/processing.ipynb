{
 "metadata": {
  "language_info": {
   "codemirror_mode": {
    "name": "ipython",
    "version": 3
   },
   "file_extension": ".py",
   "mimetype": "text/x-python",
   "name": "python",
   "nbconvert_exporter": "python",
   "pygments_lexer": "ipython3",
   "version": "3.5.2-final"
  },
  "orig_nbformat": 2,
  "kernelspec": {
   "name": "python35264bitpenvvenv283568fccc224df0b359054a5faed6f0",
   "display_name": "Python 3.5.2 64-bit ('penv': venv)",
   "language": "python"
  }
 },
 "nbformat": 4,
 "nbformat_minor": 2,
 "cells": [
  {
   "cell_type": "code",
   "execution_count": 14,
   "metadata": {},
   "outputs": [],
   "source": [
    "import pandas as pd\n",
    "from scipy.stats import zscore\n",
    "import scipy.linalg as la"
   ]
  },
  {
   "cell_type": "code",
   "execution_count": 15,
   "metadata": {},
   "outputs": [],
   "source": [
    "filepath = 'scraped_data_1_1999.csv'\n",
    "data = pd.read_csv(filepath, encoding = 'utf-8')"
   ]
  },
  {
   "source": [
    "## Estilos más comunes del dataset"
   ],
   "cell_type": "markdown",
   "metadata": {}
  },
  {
   "cell_type": "code",
   "execution_count": 16,
   "metadata": {},
   "outputs": [
    {
     "output_type": "stream",
     "name": "stdout",
     "text": [
      "Estilos totales:  185\n \nEstilos más comunes:\nAmerican IPA              0.151568\nAmerican Pale Ale         0.090761\nSaison                    0.032221\nImperial IPA              0.028819\nAmerican Amber Ale        0.027418\nBlonde Ale                0.022282\nWitbier                   0.017712\nAmerican Stout            0.017412\nAmerican Brown Ale        0.016711\nRussian Imperial Stout    0.016511\nName: style, dtype: float64\n"
     ]
    }
   ],
   "source": [
    "styles_count = data['style'].value_counts() # Frecuencia de cada clase\n",
    "styles = list(styles_count.keys()) # Lista completa de estilos\n",
    "popularity = data['style'].value_counts(normalize=True) # Proporción de cada clase\n",
    "top_ten = popularity[:10] # 10 estilos de mayor frecuencia\n",
    "top_ten_styles = list(top_ten.keys()) # Nombres de las clases\n",
    "\n",
    "# Imprimir resultados\n",
    "print('Estilos totales: ',len(styles))\n",
    "print(\" \")\n",
    "print('Estilos más comunes:')\n",
    "print(top_ten)"
   ]
  },
  {
   "source": [
    "## Limpieza de los datos\n",
    "\n",
    "(A completar con el set de al menos 100k observaciones)"
   ],
   "cell_type": "markdown",
   "metadata": {}
  },
  {
   "cell_type": "code",
   "execution_count": 18,
   "metadata": {},
   "outputs": [],
   "source": [
    "cov_mat_cols = [\"s{}{}\".format(j+1,k+1) for j in range(3) for k in range(3)]\n",
    "new_cols = ['id', 'style', 'label', 'freq', 'u_ABV', 'u_IBU', 'u_Color'] + cov_mat_cols\n",
    "clean_data = pd.DataFrame(columns = new_cols)\n",
    "ctr = 0\n",
    "for s in styles:\n",
    "    temp = data.loc[ data['style'] == s ] # Subconjunto de cada estilo\n",
    "    temp = temp.loc[(abs(zscore(temp[['abv', 'ibu', 'color']])) < 2).all(axis = 1)] # Quitar atípicos\n",
    "    \n",
    "    freq = len(temp.index) # Cantidad de recetas del estilo actual\n",
    "    avgs = temp.mean() # Promedio\n",
    "    cov = temp.cov() # Matriz de covarianza del conjunto\n",
    "    \n",
    "    if freq < 100: # No agregar si hay menos de 100 observaciones\n",
    "        continue\n",
    "    if la.det(cov) < 0.01: # La matriz de covarianza debe ser invertible\n",
    "        print(\"Estilo\", s, \"tiene matriz de covarianza singular\")        \n",
    "        continue\n",
    "\n",
    "    inv_cov = pd.DataFrame(la.inv(cov.values), cov.columns, cov.index) # Inversa de la covarianza\n",
    "    \n",
    "    # Generar fila del dataframe\n",
    "    row = (s.replace(' ', '_'), s, s, freq) # ID, estilo, etiqueta, frecuencia     \n",
    "    for v in ['abv', 'ibu', 'color']:\n",
    "        row = row + (avgs[v],) # Agregar promedios\n",
    "    for i, vi in inv_cov.items(): # Para cada fila\n",
    "        for j, vj in vi.items(): # Para cada columna\n",
    "            row = row + (vj, ) # Agregar indices de la matriz de covarianza inv\n",
    "    \n",
    "    clean_data = clean_data.append( pd.DataFrame([row], columns = new_cols, index = [ctr]) )\n",
    "    ctr = ctr + 1"
   ]
  },
  {
   "cell_type": "code",
   "execution_count": 24,
   "metadata": {},
   "outputs": [
    {
     "output_type": "execute_result",
     "data": {
      "text/plain": [
       "                   id               style               label  freq     u_ABV  \\\n",
       "0        American_IPA        American IPA        American IPA  4052  6.451844   \n",
       "1   American_Pale_Ale   American Pale Ale   American Pale Ale  2530  5.429435   \n",
       "2              Saison              Saison              Saison   843  6.080225   \n",
       "3        Imperial_IPA        Imperial IPA        Imperial IPA   728  8.287294   \n",
       "4  American_Amber_Ale  American Amber Ale  American Amber Ale   754  5.676698   \n",
       "\n",
       "        u_IBU    u_Color       s11       s12       s13       s21       s22  \\\n",
       "0   68.747359   7.816604  1.637172 -0.009303 -0.028986 -0.009303  0.001511   \n",
       "1   43.059032   6.966644  2.847424 -0.019387 -0.119520 -0.019387  0.004302   \n",
       "2   28.852147   5.824733  1.419164 -0.021945 -0.070311 -0.021945  0.015212   \n",
       "3  107.537816   9.525440  1.207887  0.000039 -0.020785  0.000039  0.000568   \n",
       "4   39.938634  13.936989  2.023453 -0.027221 -0.031097 -0.027221  0.003589   \n",
       "\n",
       "        s23       s31       s32       s33  \n",
       "0 -0.000674 -0.028986 -0.000674  0.116052  \n",
       "1 -0.001422 -0.119520 -0.001422  0.196843  \n",
       "2 -0.000529 -0.070311 -0.000529  0.182961  \n",
       "3  0.000972 -0.020785  0.000972  0.075823  \n",
       "4 -0.002085 -0.031097 -0.002085  0.091292  "
      ],
      "text/html": "<div>\n<style scoped>\n    .dataframe tbody tr th:only-of-type {\n        vertical-align: middle;\n    }\n\n    .dataframe tbody tr th {\n        vertical-align: top;\n    }\n\n    .dataframe thead th {\n        text-align: right;\n    }\n</style>\n<table border=\"1\" class=\"dataframe\">\n  <thead>\n    <tr style=\"text-align: right;\">\n      <th></th>\n      <th>id</th>\n      <th>style</th>\n      <th>label</th>\n      <th>freq</th>\n      <th>u_ABV</th>\n      <th>u_IBU</th>\n      <th>u_Color</th>\n      <th>s11</th>\n      <th>s12</th>\n      <th>s13</th>\n      <th>s21</th>\n      <th>s22</th>\n      <th>s23</th>\n      <th>s31</th>\n      <th>s32</th>\n      <th>s33</th>\n    </tr>\n  </thead>\n  <tbody>\n    <tr>\n      <th>0</th>\n      <td>American_IPA</td>\n      <td>American IPA</td>\n      <td>American IPA</td>\n      <td>4052</td>\n      <td>6.451844</td>\n      <td>68.747359</td>\n      <td>7.816604</td>\n      <td>1.637172</td>\n      <td>-0.009303</td>\n      <td>-0.028986</td>\n      <td>-0.009303</td>\n      <td>0.001511</td>\n      <td>-0.000674</td>\n      <td>-0.028986</td>\n      <td>-0.000674</td>\n      <td>0.116052</td>\n    </tr>\n    <tr>\n      <th>1</th>\n      <td>American_Pale_Ale</td>\n      <td>American Pale Ale</td>\n      <td>American Pale Ale</td>\n      <td>2530</td>\n      <td>5.429435</td>\n      <td>43.059032</td>\n      <td>6.966644</td>\n      <td>2.847424</td>\n      <td>-0.019387</td>\n      <td>-0.119520</td>\n      <td>-0.019387</td>\n      <td>0.004302</td>\n      <td>-0.001422</td>\n      <td>-0.119520</td>\n      <td>-0.001422</td>\n      <td>0.196843</td>\n    </tr>\n    <tr>\n      <th>2</th>\n      <td>Saison</td>\n      <td>Saison</td>\n      <td>Saison</td>\n      <td>843</td>\n      <td>6.080225</td>\n      <td>28.852147</td>\n      <td>5.824733</td>\n      <td>1.419164</td>\n      <td>-0.021945</td>\n      <td>-0.070311</td>\n      <td>-0.021945</td>\n      <td>0.015212</td>\n      <td>-0.000529</td>\n      <td>-0.070311</td>\n      <td>-0.000529</td>\n      <td>0.182961</td>\n    </tr>\n    <tr>\n      <th>3</th>\n      <td>Imperial_IPA</td>\n      <td>Imperial IPA</td>\n      <td>Imperial IPA</td>\n      <td>728</td>\n      <td>8.287294</td>\n      <td>107.537816</td>\n      <td>9.525440</td>\n      <td>1.207887</td>\n      <td>0.000039</td>\n      <td>-0.020785</td>\n      <td>0.000039</td>\n      <td>0.000568</td>\n      <td>0.000972</td>\n      <td>-0.020785</td>\n      <td>0.000972</td>\n      <td>0.075823</td>\n    </tr>\n    <tr>\n      <th>4</th>\n      <td>American_Amber_Ale</td>\n      <td>American Amber Ale</td>\n      <td>American Amber Ale</td>\n      <td>754</td>\n      <td>5.676698</td>\n      <td>39.938634</td>\n      <td>13.936989</td>\n      <td>2.023453</td>\n      <td>-0.027221</td>\n      <td>-0.031097</td>\n      <td>-0.027221</td>\n      <td>0.003589</td>\n      <td>-0.002085</td>\n      <td>-0.031097</td>\n      <td>-0.002085</td>\n      <td>0.091292</td>\n    </tr>\n  </tbody>\n</table>\n</div>"
     },
     "metadata": {},
     "execution_count": 24
    }
   ],
   "source": [
    "\n",
    "clean_data.to_json('beer_styles.json', orient = 'records')\n",
    "clean_data.head()"
   ]
  },
  {
   "cell_type": "code",
   "execution_count": 25,
   "metadata": {},
   "outputs": [
    {
     "output_type": "stream",
     "name": "stdout",
     "text": [
      "Cantidad de estilos: 61\n"
     ]
    }
   ],
   "source": [
    "print('Cantidad de estilos: '+str(clean_data.shape[0]))"
   ]
  }
 ]
}